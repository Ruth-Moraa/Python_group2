{
 "cells": [
  {
   "cell_type": "markdown",
   "metadata": {},
   "source": [
    "# Qn1. Write a function to convert celcius to fahrenheit"
   ]
  },
  {
   "cell_type": "code",
   "execution_count": 2,
   "metadata": {},
   "outputs": [
    {
     "name": "stdout",
     "output_type": "stream",
     "text": [
      "Enter temperature in celcius: 30\n",
      "30.00 degree celcius is equal to 86.00 degree fahrenheit\n"
     ]
    }
   ],
   "source": [
    "def Celcius_fahrenheit():\n",
    "    celcius = float(input('Enter temperature in celcius: '))\n",
    "    fahrenheit = (9/5*(int(celcius))) + 32\n",
    "    print (\"%.2f degree celcius is equal to %.2f degree fahrenheit\" %(celcius, fahrenheit))\n",
    "Celcius_fahrenheit()\n"
   ]
  },
  {
   "cell_type": "markdown",
   "metadata": {},
   "source": [
    "# Qn2. Write a function that given weight and height returns the BMI of the person."
   ]
  },
  {
   "cell_type": "code",
   "execution_count": 3,
   "metadata": {},
   "outputs": [
    {
     "name": "stdout",
     "output_type": "stream",
     "text": [
      "please inter your full name: marion\n",
      "please inter your height in m: 120\n",
      "please inter youir weight in kg: 20\n",
      "marion your BMI is 0.00\n"
     ]
    }
   ],
   "source": [
    "def BMIcalculator():\n",
    "    name = input(\"please inter your full name: \")\n",
    "    height = float(input(\"please inter your height in m: \"))\n",
    "    weight = float(input(\"please inter youir weight in kg: \"))\n",
    "    BMI = float(weight/(height**2))\n",
    "    print (name, \"your BMI is %.2f\" %(BMI))\n",
    "BMIcalculator()"
   ]
  },
  {
   "cell_type": "markdown",
   "metadata": {},
   "source": [
    "# Qn3. Create a program that asks the user to enter their name and their age. Print out a message addressed to them that tells them the year that they will turn 100 years old."
   ]
  },
  {
   "cell_type": "code",
   "execution_count": 4,
   "metadata": {},
   "outputs": [
    {
     "name": "stdout",
     "output_type": "stream",
     "text": [
      "please inter your full name: marion\n",
      "please inter your age: 20\n",
      "marion you will turn 100 years in 2100\n"
     ]
    }
   ],
   "source": [
    "def years_100():\n",
    "    name = input(\"please inter your full name: \")\n",
    "    age = int(input(\"please inter your age: \"))\n",
    "    year = int((2020 - age) + 100)\n",
    "    print(name, \"you will turn 100 years in\", year)\n",
    "years_100()\n",
    "    "
   ]
  },
  {
   "cell_type": "markdown",
   "metadata": {},
   "source": [
    "# Qn4. Write a function that returns the maximum of two numbers"
   ]
  },
  {
   "cell_type": "code",
   "execution_count": 5,
   "metadata": {},
   "outputs": [
    {
     "name": "stdout",
     "output_type": "stream",
     "text": [
      "please inter your first number: 20\n",
      "please inter your second number: 10\n",
      "20 is the maximum number\n"
     ]
    }
   ],
   "source": [
    "def max_num():\n",
    "    num1 = int(input(\"please enter your first number: \"))\n",
    "    num2 = int(input(\"please enter your second number: \"))\n",
    "    if num1 > num2:\n",
    "        print (num1, \"is the maximum number\")\n",
    "    elif num1 < num2:\n",
    "        print (num2, \"is the maximum number.\")\n",
    "    else:\n",
    "        print (num1, \"is equal to\", num2)\n",
    "max_num()"
   ]
  },
  {
   "cell_type": "markdown",
   "metadata": {},
   "source": [
    "# Qn5. Write a function called fizz_buzz that takes a number. - If the number is divisible by 3, it should return “Fizz”. - If it is divisible by 5, it should return “Buzz”. - If it is divisible by both 3 and 5, it should return “FizzBuzz”. Otherwise, it should return the same number."
   ]
  },
  {
   "cell_type": "code",
   "execution_count": 7,
   "metadata": {},
   "outputs": [
    {
     "name": "stdout",
     "output_type": "stream",
     "text": [
      "please inter your number: 11\n",
      "11\n"
     ]
    }
   ],
   "source": [
    "def Fizz_Buzz():\n",
    "    number = int(input(\"please inter your number: \"))\n",
    "    if number % 3==0 and number % 5 ==0:\n",
    "        print (\"FizzBuzz\")\n",
    "    elif number % 3 == 0:\n",
    "        print (\"Fizz\")\n",
    "    elif number % 5 == 0:\n",
    "        print (\"Buzz\")\n",
    "    else:\n",
    "        print (number)\n",
    "Fizz_Buzz()"
   ]
  },
  {
   "cell_type": "markdown",
   "metadata": {},
   "source": [
    "# Qn6. Write a function for checking the speed of drivers. This function should have one parameter: speed. - If speed is less than 70, it should print “Ok”. - Otherwise, for every 5km above the speed limit (70), it should give the driver one demerit point and print the total number of demerit points. For example, if the speed is 80, it should print: “Points: 2”. - If the driver gets more than 12 points, the function should print: “License suspended”"
   ]
  },
  {
   "cell_type": "code",
   "execution_count": 9,
   "metadata": {},
   "outputs": [
    {
     "name": "stdout",
     "output_type": "stream",
     "text": [
      "inter speed in km: 1000\n",
      "licence suspended\n"
     ]
    }
   ],
   "source": [
    "def speed_meter():\n",
    "    speed = int(input('inter speed in km: '))\n",
    "    if speed <= 70:\n",
    "        print('ok')\n",
    "    elif (speed -70)//5 > 12:\n",
    "        print('licence suspended')\n",
    "    else:\n",
    "        print('your demrit point is', int((speed-70)//5))\n",
    "speed_meter()"
   ]
  },
  {
   "cell_type": "markdown",
   "metadata": {},
   "source": [
    "# Qn7. Write a function called showNumbers that takes a parameter called limit. It should print all the numbers between 0 and limit with a label to identify the even and odd numbers. For example, if the limit is 3, it should print: - 0 EVEN - 1 ODD - 2 EVEN - 3 ODD"
   ]
  },
  {
   "cell_type": "code",
   "execution_count": 10,
   "metadata": {},
   "outputs": [
    {
     "name": "stdout",
     "output_type": "stream",
     "text": [
      "please enter your number: 12\n",
      "0 EVEN\n",
      "1 ODD\n",
      "2 EVEN\n",
      "3 ODD\n",
      "4 EVEN\n",
      "5 ODD\n",
      "6 EVEN\n",
      "7 ODD\n",
      "8 EVEN\n",
      "9 ODD\n",
      "10 EVEN\n",
      "11 ODD\n",
      "12 EVEN\n"
     ]
    }
   ],
   "source": [
    "def ShowNumbers():\n",
    "    limit = int(input(\"please enter your number: \"))\n",
    "    for i in range(0,limit+1):\n",
    "        if i%2 == 0:\n",
    "            print(i, \"EVEN\")\n",
    "        else:\n",
    "            print(i, \"ODD\")\n",
    "ShowNumbers()"
   ]
  },
  {
   "cell_type": "markdown",
   "metadata": {},
   "source": [
    "# Qn8. Write a function that returns the sum of multiples of 3 and 5 between 0 and limit (parameter). For example, if limit is 20, it should return the sum of 3, 5, 6, 9, 10, 12, 15, 18, 20."
   ]
  },
  {
   "cell_type": "code",
   "execution_count": 11,
   "metadata": {},
   "outputs": [
    {
     "name": "stdout",
     "output_type": "stream",
     "text": [
      "enter your limit: 20\n",
      "the sum of the multiples is 98\n"
     ]
    }
   ],
   "source": [
    "def sum_num():\n",
    "    sum = 0\n",
    "    limit = int(input(\"enter your limit: \"))\n",
    "    for i in range(0,limit+1):\n",
    "        if i%3 == 0 or i%5 == 0:\n",
    "            sum +=i \n",
    "    print (\"the sum of the multiples is\",sum)\n",
    "sum_num()"
   ]
  },
  {
   "cell_type": "markdown",
   "metadata": {},
   "source": [
    "#     Qn9. Write a function called show_stars(rows). If rows is 5, it should print the following:\n",
    "\n",
    "        *\n",
    "        **\n",
    "        ***\n",
    "        ****\n",
    "        *****\n"
   ]
  },
  {
   "cell_type": "code",
   "execution_count": 12,
   "metadata": {},
   "outputs": [
    {
     "name": "stdout",
     "output_type": "stream",
     "text": [
      "inter your no of raws: 5\n",
      "\n",
      "*\n",
      "**\n",
      "***\n",
      "****\n",
      "*****\n"
     ]
    }
   ],
   "source": [
    "def show_stars():\n",
    "    row = int(input(\"inter your no of raws: \"))\n",
    "    for i in range(0,row+1):\n",
    "        print(\"*\"*i)\n",
    "show_stars()"
   ]
  },
  {
   "cell_type": "markdown",
   "metadata": {},
   "source": [
    "# Qn10. Write a function that prints all the prime numbers between 0 and limit where limit is a parameter."
   ]
  },
  {
   "cell_type": "code",
   "execution_count": 13,
   "metadata": {},
   "outputs": [
    {
     "name": "stdout",
     "output_type": "stream",
     "text": [
      "enter your limit: 10\n",
      "2\n",
      "3\n",
      "5\n",
      "7\n"
     ]
    }
   ],
   "source": [
    "def Prime_numbers():\n",
    "    limit = int(input(\"enter your limit: \"))\n",
    "    for i in range(0,limit+1):\n",
    "        if i>1:\n",
    "            for j in range(2,i):\n",
    "                if i%j==0:\n",
    "                    break\n",
    "            else:\n",
    "                print (i)\n",
    "Prime_numbers()"
   ]
  },
  {
   "cell_type": "code",
   "execution_count": null,
   "metadata": {},
   "outputs": [],
   "source": []
  }
 ],
 "metadata": {
  "kernelspec": {
   "display_name": "Python 3",
   "language": "python",
   "name": "python3"
  },
  "language_info": {
   "codemirror_mode": {
    "name": "ipython",
    "version": 3
   },
   "file_extension": ".py",
   "mimetype": "text/x-python",
   "name": "python",
   "nbconvert_exporter": "python",
   "pygments_lexer": "ipython3",
   "version": "3.8.5"
  }
 },
 "nbformat": 4,
 "nbformat_minor": 4
}
